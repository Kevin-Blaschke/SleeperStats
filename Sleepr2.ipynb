{
 "cells": [
  {
   "cell_type": "code",
   "execution_count": 43,
   "metadata": {},
   "outputs": [
    {
     "name": "stdout",
     "output_type": "stream",
     "text": [
      "Time in seconds:  3.1488776206970215\n"
     ]
    }
   ],
   "source": [
    "import time\n",
    "from sleeper_wrapper import League, User, Stats, Players\n",
    "\n",
    "players = Players()\n",
    "start = time.time()\n",
    "all_players = players.get_all_players()\n",
    "end = time.time()\n",
    "print(\"Time in seconds: \", end-start)"
   ]
  },
  {
   "cell_type": "code",
   "execution_count": 44,
   "metadata": {},
   "outputs": [],
   "source": [
    "import pandas as pd\n",
    "import numpy as np"
   ]
  },
  {
   "cell_type": "code",
   "execution_count": 45,
   "metadata": {},
   "outputs": [
    {
     "name": "stdout",
     "output_type": "stream",
     "text": [
      "6760\n"
     ]
    }
   ],
   "source": [
    "print (len(all_players))"
   ]
  },
  {
   "cell_type": "code",
   "execution_count": null,
   "metadata": {},
   "outputs": [],
   "source": []
  },
  {
   "cell_type": "code",
   "execution_count": 46,
   "metadata": {},
   "outputs": [],
   "source": [
    "class Team:\n",
    "    def __init__(self, tid, data):\n",
    "        self.tid = tid\n",
    "        self.data = data \n",
    "        self.owner_id = data['owner_id']\n",
    "        self.owner_name = ''\n",
    "                \n",
    "    def get_players(self):\n",
    "        self.players = []\n",
    "        for x in self.data['players']:\n",
    "            player = Player(x)\n",
    "            self.players.append(player)\n",
    "            \n",
    "    def pandas_players(self):\n",
    "        columns = ['Name', 'Age', 'Team', 'Position', 'Fantasy', 'Depth_rank']\n",
    "        self.get_players()\n",
    "        d = []\n",
    "        for player in self.players:\n",
    "            d.append([player.name, player.age, player.team, player.position, player.fantasy_positions, player.depth_rank])\n",
    "        data = pd.DataFrame(data=d, columns=columns)\n",
    "        return data"
   ]
  },
  {
   "cell_type": "code",
   "execution_count": 47,
   "metadata": {},
   "outputs": [],
   "source": [
    "class Player:\n",
    "    def __init__(self, pid):\n",
    "        self.data = all_players[pid]\n",
    "        self.pid = pid\n",
    "        self.name = self.data['full_name'] \n",
    "        self.position = self.data['position']\n",
    "        self.fantasy_positions = self.data['fantasy_positions']\n",
    "        self.age = self.data['age']\n",
    "        self.team = self.data['team']\n",
    "        self.depth_rank = self.data['depth_chart_order']\n",
    "        self.status = self.data['status']\n",
    "        \n",
    "    def set_stats(self, stats):\n",
    "        if len(stats) > 0:\n",
    "            self.stats = stats\n",
    "        else :\n",
    "            self.stats = []"
   ]
  },
  {
   "cell_type": "code",
   "execution_count": 48,
   "metadata": {},
   "outputs": [
    {
     "name": "stdout",
     "output_type": "stream",
     "text": [
      "Jonny2Time 0\n",
      "Steeler1979 1\n",
      "MrLonghorn 2\n",
      "bmass 3\n",
      "Micahangelo 4\n",
      "JoSchmo 5\n",
      "Horny1 6\n",
      "FlashYourTDs 7\n",
      "BeerdedJustice 8\n",
      "MrJanuary 9\n"
     ]
    }
   ],
   "source": [
    "## Change league ID to change league \n",
    "## Pulls rosters and users for each league\n",
    "## Also creates all the team objects for later use\n",
    "\n",
    "## 10-team idp: 472461929810489344\n",
    "## 12-team:     469555582068584448\n",
    "league = League('472461929810489344')\n",
    "rosters = league.get_rosters()\n",
    "users = league.get_users()\n",
    "teams = []\n",
    "tid = 0\n",
    "for x in rosters:\n",
    "    team = Team(tid, rosters[tid])\n",
    "    owner_name = ''\n",
    "    for user in users:\n",
    "        if user['user_id'] == team.owner_id:\n",
    "            owner_name = user['display_name']\n",
    "            team.owner_name = owner_name \n",
    "    print(owner_name, tid)\n",
    "    tid += 1\n",
    "    teams.append(team)"
   ]
  },
  {
   "cell_type": "code",
   "execution_count": 49,
   "metadata": {},
   "outputs": [],
   "source": [
    "## Below cell calculate and prints the average age for each team in league"
   ]
  },
  {
   "cell_type": "code",
   "execution_count": 50,
   "metadata": {},
   "outputs": [
    {
     "name": "stdout",
     "output_type": "stream",
     "text": [
      "User: Horny1, Average Age: 27.600\n",
      "\n",
      "User: Steeler1979, Average Age: 27.000\n",
      "\n",
      "User: BeerdedJustice, Average Age: 26.923\n",
      "\n",
      "User: MrLonghorn, Average Age: 26.192\n",
      "\n",
      "User: MrJanuary, Average Age: 26.000\n",
      "\n",
      "User: bmass, Average Age: 25.904\n",
      "\n",
      "User: FlashYourTDs, Average Age: 25.660\n",
      "\n",
      "User: Jonny2Time, Average Age: 25.288\n",
      "\n",
      "User: JoSchmo, Average Age: 25.074\n",
      "\n",
      "User: Micahangelo, Average Age: 24.750\n",
      "\n"
     ]
    }
   ],
   "source": [
    "tid = 1\n",
    "user2age = []\n",
    "for team in teams:\n",
    "    players = team.pandas_players()\n",
    "    players = players.sort_values(by=['Age'])\n",
    "    age = np.mean(players['Age'])\n",
    "    tid += 1\n",
    "    user2age.append((team.owner_name, age))\n",
    "user2age.sort(key = lambda x: x[1], reverse=True)  \n",
    "for entry in user2age:\n",
    "    print(\"User: %s, Average Age: %.3f\\n\" % (entry[0], entry[1]))\n",
    "\n"
   ]
  },
  {
   "cell_type": "code",
   "execution_count": 51,
   "metadata": {},
   "outputs": [
    {
     "name": "stdout",
     "output_type": "stream",
     "text": [
      "                  Name  Age Team Position   Fantasy  Depth_rank\n",
      "46        Travis Homer   21  SEA       RB      [RB]           2\n",
      "51        N'Keal Harry   22   NE       WR      [WR]           2\n",
      "49    Devin Singletary   22  BUF       RB      [RB]           1\n",
      "22      Marquise Brown   22  BAL       WR      [WR]           1\n",
      "42      Dwayne Haskins   22  WAS       QB      [QB]           2\n",
      "17     Charles Omenihu   22  HOU       DE      [DL]           2\n",
      "32           Ed Oliver   22  BUF       DT      [DL]           2\n",
      "38    James Washington   23  PIT       WR      [WR]           1\n",
      "27        Mark Andrews   23  BAL       TE      [TE]           1\n",
      "50         Tre Herndon   23  JAX       CB      [DB]           1\n",
      "40       Hakeem Butler   23  ARI       WR      [WR]           3\n",
      "20           Drew Lock   23  DEN       QB      [QB]           2\n",
      "15          Ian Thomas   23  CAR       TE      [TE]           2\n",
      "35  Minkah Fitzpatrick   23  PIT       FS      [DB]           1\n",
      "11          Kyle Allen   23  CAR       QB      [QB]           3\n",
      "41         Kareem Hunt   24  CLE       RB      [RB]           2\n",
      "18    Daesean Hamilton   24  DEN       WR      [WR]           1\n",
      "43         Kenny Moore   24  IND       CB      [DB]           1\n",
      "1          Corey Davis   24  TEN       WR      [WR]           1\n",
      "2        Patrick Laird   24  MIA       RB      [RB]           4\n",
      "26    A'Shawn Robinson   24  DET       DT      [DL]           1\n",
      "44        Donald Payne   25  JAX      ILB  [LB, DB]           1\n",
      "37       Shaq Thompson   25  CAR      ILB      [LB]           1\n",
      "13        Kenyan Drake   25  ARI       RB      [RB]           2\n",
      "5         Hunter Henry   25  LAC       TE      [TE]           1\n",
      "36      Dede Westbrook   26  JAX       WR      [WR]           1\n",
      "16     Nick Kwiatkoski   26  CHI      ILB      [LB]           1\n",
      "8        Ty Montgomery   26  NYJ       RB      [RB]           2\n",
      "10      Landon Collins   26  WAS       SS      [DB]           1\n",
      "28     DeAndre Hopkins   27  HOU       WR      [WR]           1\n",
      "9    Teddy Bridgewater   27   NO       QB      [QB]           3\n",
      "48        Le'Veon Bell   27  NYJ       RB      [RB]           1\n",
      "14     Jerick McKinnon   27   SF       RB      [RB]           6\n",
      "45   Alexander Johnson   28  DEN      ILB      [LB]           1\n",
      "0        Alec Ogletree   28  NYG      ILB      [LB]           1\n",
      "33       David Johnson   28  ARI       RB      [RB]           1\n",
      "4         Luke Kuechly   28  CAR      ILB      [LB]           1\n",
      "34           Eric Reid   28  CAR       SS      [DB]           1\n",
      "21       Markus Golden   28  NYG      OLB  [LB, DL]           2\n",
      "47        Robert Quinn   29  DAL       DE  [LB, DL]           1\n",
      "12      Chris Thompson   29  WAS       RB      [RB]           3\n",
      "19    Michael Brockers   29  LAR       DE      [DL]           1\n",
      "24  Sheldon Richardson   29  CLE       DT  [LB, DL]           1\n",
      "30        Adam Thielen   29  MIN       WR      [WR]           1\n",
      "31        Bobby Wagner   29  SEA      ILB      [LB]           1\n",
      "23          Jack Doyle   29  IND       TE      [TE]           2\n",
      "39       Carlos Dunlap   30  CIN       DE      [DL]           1\n",
      "3           Cam Newton   30  CAR       QB      [QB]           1\n",
      "25          Nick Foles   30  JAX       QB      [QB]           1\n",
      "29     Janoris Jenkins   31   NO       CB      [DB]           3\n",
      "7           Dan Bailey   31  MIN        K       [K]           1\n",
      "6        Aaron Rodgers   36   GB       QB      [QB]           1\n"
     ]
    }
   ],
   "source": [
    "username = 'MrLonghorn'\n",
    "for team in teams:\n",
    "    if team.owner_name == username:\n",
    "        print(players)"
   ]
  },
  {
   "cell_type": "code",
   "execution_count": 52,
   "metadata": {},
   "outputs": [],
   "source": [
    "## BELOW CELL\n",
    "## Creates a list of unowned players using difference between all and owned"
   ]
  },
  {
   "cell_type": "code",
   "execution_count": 53,
   "metadata": {},
   "outputs": [],
   "source": [
    "def is_pid(test):\n",
    "    try:\n",
    "        int(test)\n",
    "        return True\n",
    "    except ValueError:\n",
    "        return False\n",
    "\n",
    "owned_players = []\n",
    "for team in teams:\n",
    "    team.get_players()\n",
    "    for player in team.players:\n",
    "        owned_players.append(player.pid)\n",
    "free_agent_set = set(all_players).difference(set(owned_players))\n",
    "free_agents = []\n",
    "for agent in list(free_agent_set):\n",
    "    if is_pid(agent):\n",
    "        player = Player(str(agent))\n",
    "        free_agents.append(player)"
   ]
  },
  {
   "cell_type": "code",
   "execution_count": 54,
   "metadata": {
    "scrolled": true
   },
   "outputs": [
    {
     "name": "stdout",
     "output_type": "stream",
     "text": [
      "Erik Walden\n",
      "Demetrius McCray\n",
      "Pernell McPhee\n",
      "Paul Posluszny\n",
      "Evan Panfil\n",
      "Danny Woodhead\n",
      "Rueben Randle\n",
      "Alex Anzalone\n",
      "Ron Thompson\n",
      "Erik Austell\n",
      "Brennen Beyer\n",
      "Keith Kirkwood\n",
      "Stephen Gostkowski\n",
      "CJ Fiedorowicz\n",
      "Brandon Watts\n",
      "Jacoby Glenn\n",
      "Corey Lemonier\n",
      "Ryan Disalvo\n",
      "Keyarris Garrett\n",
      "Kahale Warring\n",
      "Emmett Cleary\n",
      "Lynden Trail\n",
      "David Fluellen\n",
      "Connor Shaw\n",
      "Joe Bacci\n",
      "Martin Wallace\n",
      "Dez Stewart\n",
      "D'Andre Walker\n",
      "Gunner Olszewski\n",
      "John Lovett\n",
      "Jhajuan Seales\n",
      "Chris Culliver\n",
      "Aaron Dobson\n",
      "Ka'Deem Carey\n",
      "JT Thomas\n",
      "Michael Cirino\n",
      "Equanimeous St. Brown\n",
      "EJ Bibbs\n",
      "Paul McRoberts\n",
      "Alani Fua\n",
      "Tim Lelito\n",
      "Sean Hickey\n",
      "Joe Thomas\n",
      "Josh Johnson\n",
      "Kevin Norwood\n",
      "Rodney Anderson\n",
      "Trent Taylor\n",
      "Marcus Rios\n",
      "Malik Jackson\n",
      "Matt Forte\n",
      "Lonnie Ballentine\n",
      "BJ Johnson\n",
      "Gabe Ikard\n",
      "JR Nelson\n",
      "Emmanuel Ogbah\n",
      "Trevor Knight\n",
      "Jalen Hurd\n",
      "Zach Strief\n",
      "Tony Jefferson\n",
      "Corbin Bryant\n",
      "Marcus Cromartie\n",
      "Corey Clement\n",
      "Malcolm Butler\n",
      "Chris Prosinski\n",
      "Ed Dickson\n",
      "Byron Maxwell\n",
      "Earl Wolff\n",
      "Derek Rivers\n",
      "Rashaun Allen\n",
      "James Hanna\n",
      "Sefo Liufau\n",
      "Marquis Lucas\n",
      "Raven Greene\n",
      "Zach Franklin\n",
      "RJ Shelton\n",
      "Evan Schwan\n",
      "Donald Hawkins\n",
      "Chris Matthews\n",
      "Kenneth Dixon\n",
      "Jon Dorenbos\n",
      "Malik Smith\n",
      "Jimmy Staten\n"
     ]
    }
   ],
   "source": [
    "#Finds free agents that are on IR\n",
    "\n",
    "for agent in free_agents:\n",
    "    if agent.status == 'Injured Reserve' and agent.team != 'None':\n",
    "        print(agent.name)\n"
   ]
  },
  {
   "cell_type": "code",
   "execution_count": 55,
   "metadata": {},
   "outputs": [
    {
     "name": "stdout",
     "output_type": "stream",
     "text": [
      "404 Client Error: Not Found for url: https://api.sleeper.app/v1/stats/nfl/regular/2019\n"
     ]
    },
    {
     "ename": "AttributeError",
     "evalue": "'HTTPError' object has no attribute 'keys'",
     "output_type": "error",
     "traceback": [
      "\u001b[1;31m---------------------------------------------------------------------------\u001b[0m",
      "\u001b[1;31mAttributeError\u001b[0m                            Traceback (most recent call last)",
      "\u001b[1;32m<ipython-input-55-82ded3930c62>\u001b[0m in \u001b[0;36m<module>\u001b[1;34m\u001b[0m\n\u001b[0;32m      2\u001b[0m \u001b[0mall_stats\u001b[0m \u001b[1;33m=\u001b[0m \u001b[0mstats\u001b[0m\u001b[1;33m.\u001b[0m\u001b[0mget_all_stats\u001b[0m\u001b[1;33m(\u001b[0m\u001b[1;34m'regular'\u001b[0m\u001b[1;33m,\u001b[0m \u001b[1;34m'2019'\u001b[0m\u001b[1;33m)\u001b[0m\u001b[1;33m\u001b[0m\u001b[1;33m\u001b[0m\u001b[0m\n\u001b[0;32m      3\u001b[0m \u001b[0mprint\u001b[0m\u001b[1;33m(\u001b[0m\u001b[0mall_stats\u001b[0m\u001b[1;33m)\u001b[0m\u001b[1;33m\u001b[0m\u001b[1;33m\u001b[0m\u001b[0m\n\u001b[1;32m----> 4\u001b[1;33m \u001b[1;32mfor\u001b[0m \u001b[0mpid\u001b[0m \u001b[1;32min\u001b[0m \u001b[0mall_stats\u001b[0m\u001b[1;33m.\u001b[0m\u001b[0mkeys\u001b[0m\u001b[1;33m(\u001b[0m\u001b[1;33m)\u001b[0m\u001b[1;33m:\u001b[0m\u001b[1;33m\u001b[0m\u001b[1;33m\u001b[0m\u001b[0m\n\u001b[0m\u001b[0;32m      5\u001b[0m     \u001b[1;32mif\u001b[0m \u001b[0mis_pid\u001b[0m\u001b[1;33m(\u001b[0m\u001b[0mpid\u001b[0m\u001b[1;33m)\u001b[0m\u001b[1;33m:\u001b[0m\u001b[1;33m\u001b[0m\u001b[1;33m\u001b[0m\u001b[0m\n\u001b[0;32m      6\u001b[0m         \u001b[0mplayer\u001b[0m \u001b[1;33m=\u001b[0m \u001b[0mPlayer\u001b[0m\u001b[1;33m(\u001b[0m\u001b[0mpid\u001b[0m\u001b[1;33m)\u001b[0m\u001b[1;33m\u001b[0m\u001b[1;33m\u001b[0m\u001b[0m\n",
      "\u001b[1;31mAttributeError\u001b[0m: 'HTTPError' object has no attribute 'keys'"
     ]
    }
   ],
   "source": [
    "stats = Stats()\n",
    "all_stats = stats.get_all_stats('regular', '2019')\n",
    "print(all_stats)\n",
    "for pid in all_stats.keys():\n",
    "    if is_pid(pid):\n",
    "        player = Player(pid)\n",
    "        player.set_stats(all_stats[pid])\n",
    "        if len(player.stats) > 0:\n",
    "            print(player.name, player.stats)\n"
   ]
  },
  {
   "cell_type": "code",
   "execution_count": 57,
   "metadata": {},
   "outputs": [
    {
     "ename": "TypeError",
     "evalue": "'HTTPError' object is not subscriptable",
     "output_type": "error",
     "traceback": [
      "\u001b[1;31m---------------------------------------------------------------------------\u001b[0m",
      "\u001b[1;31mTypeError\u001b[0m                                 Traceback (most recent call last)",
      "\u001b[1;32m<ipython-input-57-1ce4b574d099>\u001b[0m in \u001b[0;36m<module>\u001b[1;34m\u001b[0m\n\u001b[0;32m     11\u001b[0m     \u001b[1;32mfor\u001b[0m \u001b[0mplayer\u001b[0m \u001b[1;32min\u001b[0m \u001b[0mfree_agents\u001b[0m\u001b[1;33m:\u001b[0m\u001b[1;33m\u001b[0m\u001b[1;33m\u001b[0m\u001b[0m\n\u001b[0;32m     12\u001b[0m         \u001b[1;32mif\u001b[0m \u001b[0mplayer\u001b[0m\u001b[1;33m.\u001b[0m\u001b[0mfantasy_positions\u001b[0m \u001b[1;33m==\u001b[0m \u001b[1;33m[\u001b[0m\u001b[0mpos\u001b[0m\u001b[1;33m]\u001b[0m \u001b[1;32mand\u001b[0m \u001b[0mplayer\u001b[0m\u001b[1;33m.\u001b[0m\u001b[0mteam\u001b[0m \u001b[1;33m!=\u001b[0m \u001b[1;32mNone\u001b[0m\u001b[1;33m:\u001b[0m\u001b[1;33m\u001b[0m\u001b[1;33m\u001b[0m\u001b[0m\n\u001b[1;32m---> 13\u001b[1;33m             \u001b[1;32mif\u001b[0m \u001b[1;33m(\u001b[0m\u001b[0mlen\u001b[0m\u001b[1;33m(\u001b[0m\u001b[0mall_stats\u001b[0m\u001b[1;33m[\u001b[0m\u001b[0mplayer\u001b[0m\u001b[1;33m.\u001b[0m\u001b[0mpid\u001b[0m\u001b[1;33m]\u001b[0m\u001b[1;33m)\u001b[0m \u001b[1;33m>\u001b[0m \u001b[1;36m0\u001b[0m\u001b[1;33m)\u001b[0m\u001b[1;33m:\u001b[0m\u001b[1;33m\u001b[0m\u001b[1;33m\u001b[0m\u001b[0m\n\u001b[0m\u001b[0;32m     14\u001b[0m                 \u001b[0mplayer\u001b[0m\u001b[1;33m.\u001b[0m\u001b[0mset_stats\u001b[0m\u001b[1;33m(\u001b[0m\u001b[0mall_stats\u001b[0m\u001b[1;33m[\u001b[0m\u001b[0mplayer\u001b[0m\u001b[1;33m.\u001b[0m\u001b[0mpid\u001b[0m\u001b[1;33m]\u001b[0m\u001b[1;33m)\u001b[0m\u001b[1;33m\u001b[0m\u001b[1;33m\u001b[0m\u001b[0m\n\u001b[0;32m     15\u001b[0m                 \u001b[0mpos_players\u001b[0m\u001b[1;33m.\u001b[0m\u001b[0mappend\u001b[0m\u001b[1;33m(\u001b[0m\u001b[0mplayer\u001b[0m\u001b[1;33m)\u001b[0m\u001b[1;33m\u001b[0m\u001b[1;33m\u001b[0m\u001b[0m\n",
      "\u001b[1;31mTypeError\u001b[0m: 'HTTPError' object is not subscriptable"
     ]
    }
   ],
   "source": [
    "## Choose a position and a value to sort by\n",
    "## output is the ranks of players at position in said category\n",
    "## FA if true: Only considers unowned players, make sure appropriate cell is run above\n",
    "#### FA if false: Considers all players, make sure appropriate cell is run above\n",
    "\n",
    "pos = 'WR'\n",
    "sort_by_val = 'tm_off_snp'\n",
    "fa = True \n",
    "pos_players = []\n",
    "if fa:\n",
    "    for player in free_agents:\n",
    "        if player.fantasy_positions == [pos] and player.team != None:\n",
    "            if (len(all_stats[player.pid]) > 0):\n",
    "                player.set_stats(all_stats[player.pid])\n",
    "                pos_players.append(player)\n",
    "else: \n",
    "    for player in all_players.keys():\n",
    "        if is_pid(player):\n",
    "            temp = Player(player)\n",
    "            if temp.fantasy_positions == [pos] and temp.team != None:\n",
    "                if (len(all_stats[player]) > 0):\n",
    "                    temp.set_stats(all_stats[player])\n",
    "                    pos_players.append(temp)\n",
    "names = []       \n",
    "data = []\n",
    "for player in pos_players:\n",
    "    names.append(player.name)\n",
    "    data.append(player.stats)\n",
    "df = pd.DataFrame(data=data, index=names)\n",
    "df = df.sort_values(by=[sort_by_val], ascending=False)\n",
    "df = df.dropna(axis='columns', how='all')\n",
    "ranks = df.index\n",
    "ind = 1 \n",
    "for label in ranks:\n",
    "    print('Rank %d: %s' % (ind, label))\n",
    "    ind += 1"
   ]
  },
  {
   "cell_type": "code",
   "execution_count": 25,
   "metadata": {},
   "outputs": [],
   "source": [
    "df_all = pd.DataFrame (data=all_players.values(), index=all_players.keys())\n",
    "df_all = pd.DataFrame(data=all_players.values(), index=df_all['full_name'])\n",
    "dropsies = ['last_name', 'search_last_name', 'rotoworld_id', 'injury_notes', 'yahoo_id', 'search_rank', \n",
    "            'full_name', 'hashtag', 'search_first_name', 'espn_id', 'sportradar_id', \n",
    "           'news_updated', 'search_full_name', 'sport', 'birth_country', 'gsis_id', 'fantasy_data_id', 'stats_id',\n",
    "           'rotowire_id', 'first_name']\n",
    "df_mod = df_all.drop(labels=dropsies, axis='columns')"
   ]
  },
  {
   "cell_type": "code",
   "execution_count": 26,
   "metadata": {},
   "outputs": [
    {
     "name": "stdout",
     "output_type": "stream",
     "text": [
      "Horny1: 86-31\n",
      "Jonny2Time: 70-47\n",
      "JoSchmo: 69-48\n",
      "FlashYourTDs: 69-48\n",
      "MrJanuary: 64-53\n",
      "MrLonghorn: 56-61\n",
      "BeerdedJustice: 52-65\n",
      "Steeler1979: 43-74\n",
      "bmass: 42-75\n",
      "Micahangelo: 34-83\n"
     ]
    }
   ],
   "source": [
    "## Calculate the record of playing everyone, everyweek.\n",
    "## Loop through week\n",
    "#### Loop through matchups for the week, get your point total\n",
    "###### Loop through every other team, check their point total, see if you won or lost\n",
    "###### Keep track of total wins/losses for every team\n",
    "\n",
    "\n",
    "tid2rec = {}\n",
    "for i in range(1, len(users) + 1):\n",
    "    tid2rec[i] = (0,0)\n",
    "for i in range(1,14):\n",
    "    matchups = league.get_matchups(i)\n",
    "    for matchup in matchups:\n",
    "        tid = matchup['roster_id']\n",
    "        points = matchup['points']\n",
    "        other_matchups = league.get_matchups(i)\n",
    "        wins = 0\n",
    "        losses = 0\n",
    "        for other_matchup in other_matchups:\n",
    "            other_points = other_matchup['points']\n",
    "            if points != other_points:\n",
    "                if points > other_points:\n",
    "                    wins += 1\n",
    "                else: \n",
    "                    losses += 1\n",
    "        curr_rec = tid2rec[tid]\n",
    "        updated_wins = curr_rec[0] + wins\n",
    "        updated_l = curr_rec[1] + losses\n",
    "        tid2rec[tid] = (updated_wins, updated_l)\n",
    "\n",
    "res = []\n",
    "for tid in tid2rec.keys():\n",
    "    for team in teams:\n",
    "        if team.tid + 1 == tid:\n",
    "            owner_name = team.owner_name\n",
    "            record = tid2rec[tid]\n",
    "            res.append((owner_name, record))\n",
    "            \n",
    "res.sort(key = lambda x: x[1][0], reverse=True)\n",
    "for result in res:\n",
    "    print('%s: %d-%d' % (result[0], result[1][0], result[1][1]))\n",
    "            "
   ]
  },
  {
   "cell_type": "code",
   "execution_count": 27,
   "metadata": {},
   "outputs": [],
   "source": [
    "## Calculate the Z-score for your opponent each week and yourself each week \n",
    "## Loop through week\n",
    "#### Loop through matchups for the week get the z-score of each point total\n",
    "#### Loop through each matchup and if its your team, keep track of your z-scores\n",
    "###### Loop through every other team, if your opponent, keep tracj of their z-score\n",
    "###### Keep track of both z-scores throughout 13 week regular season\n",
    "\n",
    "\n",
    "from scipy.stats import zscore\n",
    "\n",
    "myscores = {}\n",
    "tid2zscores = {}\n",
    "for i in range(1, len(users) + 1):\n",
    "    tid2zscores[i] = []\n",
    "    myscores[i] = []\n",
    "\n",
    "for week in range(1, 14):\n",
    "    matchups = league.get_matchups(week)\n",
    "    scores = []\n",
    "    for matchup in matchups:\n",
    "        scores.append(matchup['points'])\n",
    "    z_scores = zscore(scores)\n",
    "    for matchup in matchups:\n",
    "        tid = matchup['roster_id']\n",
    "        matchup_id = matchup['matchup_id']\n",
    "        myscores[tid].append(z_scores[tid - 1])\n",
    "        other_matchups = league.get_matchups(week)\n",
    "        for other_matchup in other_matchups:\n",
    "            other_mid = other_matchup['matchup_id']\n",
    "            other_tid = other_matchup['roster_id']\n",
    "            if matchup_id == other_mid and tid != other_tid:\n",
    "                z_score = z_scores[other_tid - 1]\n",
    "                tid2zscores[tid].append(z_score)   "
   ]
  },
  {
   "cell_type": "code",
   "execution_count": 54,
   "metadata": {},
   "outputs": [
    {
     "name": "stdout",
     "output_type": "stream",
     "text": [
      "Steeler1979: Z-Score against: 0.2978\n",
      "Micahangelo: Z-Score against: 0.2807\n",
      "MrLonghorn: Z-Score against: 0.1382\n",
      "bmass: Z-Score against: 0.0670\n",
      "JoSchmo: Z-Score against: 0.0125\n",
      "BeerdedJustice: Z-Score against: 0.0068\n",
      "FlashYourTDs: Z-Score against: -0.1170\n",
      "Horny1: Z-Score against: -0.1301\n",
      "Jonny2Time: Z-Score against: -0.2276\n",
      "MrJanuary: Z-Score against: -0.3283\n"
     ]
    }
   ],
   "source": [
    "res = []\n",
    "for tid in tid2zscores.keys():\n",
    "    for team in teams:\n",
    "        if team.tid + 1 == tid:\n",
    "            owner_name = team.owner_name\n",
    "            z_score_mean = np.mean(tid2zscores[tid])\n",
    "            my_zscore = np.mean(myscores[tid])\n",
    "            res.append((owner_name, z_score_mean, my_zscore))\n",
    "            \n",
    "res.sort(key = lambda x: x[1], reverse=True)\n",
    "for result in res:\n",
    "    print('%s: Z-Score against: %.4f' % (result[0], result[1]))"
   ]
  },
  {
   "cell_type": "code",
   "execution_count": 55,
   "metadata": {},
   "outputs": [
    {
     "name": "stdout",
     "output_type": "stream",
     "text": [
      "Horny1: Z-Score points for: 0.8077\n",
      "Jonny2Time: Z-Score points for: 0.2966\n",
      "MrJanuary: Z-Score points for: 0.2301\n",
      "FlashYourTDs: Z-Score points for: 0.1596\n",
      "JoSchmo: Z-Score points for: 0.1016\n",
      "MrLonghorn: Z-Score points for: -0.0032\n",
      "BeerdedJustice: Z-Score points for: -0.2432\n",
      "bmass: Z-Score points for: -0.3749\n",
      "Steeler1979: Z-Score points for: -0.4258\n",
      "Micahangelo: Z-Score points for: -0.5487\n"
     ]
    }
   ],
   "source": [
    "res = []\n",
    "for tid in tid2zscores.keys():\n",
    "    for team in teams:\n",
    "        if team.tid + 1 == tid:\n",
    "            owner_name = team.owner_name\n",
    "            z_score_mean = np.mean(tid2zscores[tid])\n",
    "            my_zscore = np.mean(myscores[tid])\n",
    "            res.append((owner_name, z_score_mean, my_zscore))\n",
    "            \n",
    "res.sort(key = lambda x: x[2], reverse=True)\n",
    "for result in res:\n",
    "    print('%s: Z-Score points for: %.4f' % (result[0], result[2]))"
   ]
  },
  {
   "cell_type": "code",
   "execution_count": 56,
   "metadata": {},
   "outputs": [
    {
     "name": "stdout",
     "output_type": "stream",
     "text": [
      "[{'starters': ['4046', '4866', '3198', '2378', '4037', '3225', '1149', '4217', '5010', '1817', '4082', '289', '49', '594', '3172', '2015', '2429', '3254', '187', '3262', '5017', '4081', '3747'], 'roster_id': 1, 'points': 490.07000732421875, 'players': ['695', '5864', '5967', '49', '6039', '2135', '4046', '5911', '6007', '289', '1817', '5962', '5889', '829', '5885', '5947', '5872', '4037', '2821', '4082', '5917', '3747', '5955', '5884', '1149', '3262', '6045', '4150', '5840', '3198', '4217', '3254', '3225', '4951', '594', '187', '3172', '6056', '2429', '5379', '4866', '4993', '4081', '2378', '6107', '4078', '6136', '2015', '5017', '5010', '6002'], 'matchup_id': 4, 'custom_points': None}, {'starters': ['24', '4988', '5068', '956', '3321', '344', '4039', '1587', '284', '538', '1848', '3161', '127', '1513', '2592', '550', '4063', '1255', '4191', '88', '531', '1686', '1415'], 'roster_id': 2, 'points': 384.8599853515625, 'players': ['2355', '1848', '928', '24', '138', '1686', '5068', '1346', '2399', '956', '1587', '1255', '2452', '531', '4063', '6178', '5038', '2592', '1415', '6156', '4149', '4988', '4972', '5937', '6126', '344', '1053', '3309', '5995', '5843', '88', '147', '1513', '1555', '4039', '515', '3238', '284', '2320', '1144', '538', '550', '3161', '1971', '127', '1793', '3321', '4191'], 'matchup_id': 4, 'custom_points': None}, {'starters': ['4017', '4034', '4199', '4152', '947', '3157', '1825', '4033', '616', '2319', '5844', '167', '1266', '5015', '4032', '856', '2350', '3166', '1875', '3194', '643', '5036', '1576'], 'roster_id': 3, 'points': 470.05999755859375, 'players': ['6139', '2545', '5015', '1875', '5117', '4199', '2350', '643', '6214', '1837', '947', '2257', '1854', '4174', '4017', '4964', '3194', '5036', '4203', '2319', '536', '4152', '1825', '110', '1386', '5846', '5056', '4034', '856', '616', '4965', '4994', '1266', '1556', '4033', '3157', '5071', '2346', '3166', '1576', '5987', '5959', '167', '6148', '5013', '869', '5844', '4032', '5852', '5226'], 'matchup_id': 3, 'custom_points': None}, {'starters': ['3976', '4029', '6151', '4949', '2078', '4036', '4950', '4055', '4066', '4157', '5045', '5849', '5230', '605', '5020', '5483', '4220', '3291', '3222', '1395', '2230', '714', '2645'], 'roster_id': 4, 'points': 343.6400146484375, 'players': ['4036', '830', '5045', '5880', '2341', '5020', '3680', '5375', '2645', '1808', '2230', '2078', '6128', '4157', '5230', '583', '1395', '2108', '4055', '2064', '5302', '3868', '5915', '5849', '3222', '4066', '3976', '1043', '5859', '4144', '1029', '1192', '6291', '6151', '4949', '5044', '5483', '5886', '3191', '6014', '3291', '4220', '714', '1367', '2414', '4029', '4065', '605', '2004', '4950', '846'], 'matchup_id': 5, 'custom_points': None}, {'starters': ['4881', '4018', '5892', '4455', '4040', '2374', '1244', '3202', '5857', '4131', '4068', '4943', '3827', '2368', '495', '2393', '4070', '2062', '3167', '4056', '4216', '4974', '1905'], 'roster_id': 5, 'points': 336.489990234375, 'players': ['4216', '5536', '4455', '2084', '6153', '2343', '4158', '3167', '2374', '3257', '4056', '4974', '19', '3202', '5857', '2368', '3827', '2393', '4881', '2460', '6179', '5409', '184', '4067', '5847', '4018', '2062', '5927', '5863', '296', '5842', '5046', '4070', '5860', '4992', '6133', '5973', '495', '232', '5892', '1244', '4943', '4068', '4040', '2689', '1905', '4131', '5131'], 'matchup_id': 1, 'custom_points': None}, {'starters': ['4892', '4035', '4273', '4962', '2309', '2449', '4983', '2505', '943', '3423', '3200', '3294', '4227', '1947', '2036', '3973', '6119', '5041', '4968', '4133', '544', '3181', '2348'], 'roster_id': 6, 'points': 423.8500061035156, 'players': ['5870', '6068', '1160', '5970', '2348', '4962', '5965', '444', '4968', '4133', '5906', '2028', '678', '2309', '5009', '6124', '4892', '3451', '5139', '5041', '2449', '3423', '1947', '943', '5830', '4035', '5101', '544', '3973', '2505', '6119', '1388', '6118', '3230', '2036', '1940', '5086', '5816', '4983', '2588', '3294', '3200', '3181', '5209', '4227', '1987', '333', '5985', '998', '4273'], 'matchup_id': 5, 'custom_points': None}, {'starters': ['3163', '4137', '3164', '3969', '1067', '3503', '223', '1339', '2118', '2168', '58', '2306', '3678', '957', '125', '2227', '2389', '4960', '4990', '1429', '1213', '4979', '1052'], 'roster_id': 7, 'points': 339.8999938964844, 'players': ['2025', '58', '1339', '2410', '2306', '2118', '4960', '4990', '1071', '1093', '1067', '1451', '2168', '2389', '3164', '957', '676', '2238', '1052', '1027', '2227', '878', '3678', '5025', '125', '3969', '2279', '6167', '2287', '2331', '4718', '1476', '1213', '4979', '2747', '4137', '223', '3503', '4971', '1617', '1429', '3163', '331'], 'matchup_id': 2, 'custom_points': None}, {'starters': ['1234', '2315', '4663', '5850', '2133', '2216', '1110', '23', '5022', '1833', '1992', '1166', '4195', '1038', '3186', '4967', '3206', '4980', '4090', '1343', '2184', '3233', '4110'], 'roster_id': 8, 'points': 446.4100036621094, 'players': ['4981', '4089', '1166', '1833', '6123', '5347', '5980', '5107', '5850', '4663', '2133', '6131', '5570', '4980', '3206', '6168', '1995', '1500', '6120', '5000', '4110', '2315', '2322', '2583', '4090', '5004', '2184', '3160', '6083', '3276', '23', '1038', '3186', '1343', '4187', '5022', '1110', '4967', '4195', '3558', '3594', '2216', '2307', '1111', '3233', '4038', '1992', '2382', '5374', '1234'], 'matchup_id': 1, 'custom_points': None}, {'starters': ['4984', '5170', '788', '4985', '3199', '1479', '2197', '1466', '367', '1352', '2822', '421', '1264', '3156', '1141', '2406', '2130', '871', '1127', '290', '2501', '4077', '843'], 'roster_id': 9, 'points': 340.260009765625, 'players': ['3199', '1352', '4077', '6129', '1048', '5026', '1479', '5865', '4985', '1264', '843', '5007', '1466', '3156', '2130', '1387', '491', '5170', '5052', '2501', '642', '1141', '5890', '6528', '6549', '421', '871', '4080', '1127', '788', '3306', '246', '1329', '5916', '2214', '2822', '560', '180', '2381', '6283', '4984', '290', '2406', '367', '2325', '2197', '6185', '2431', '1911'], 'matchup_id': 3, 'custom_points': None}, {'starters': ['96', '2391', '1408', '3242', '1426', '1689', '4146', '3214', '5012', '1706', '3328', '954', '4958', '529', '1186', '1259', '1572', '1181', '1233', '2338', '1590', '2335', '2330'], 'roster_id': 10, 'points': 398.8800048828125, 'players': ['1572', '954', '1181', '3214', '96', '2311', '2338', '1502', '3242', '2161', '4995', '5873', '5934', '2445', '4998', '1518', '1079', '5848', '1706', '59', '1064', '5012', '1426', '1203', '1689', '1233', '5841', '2391', '1590', '2335', '4958', '4963', '4146', '2330', '5024', '455', '1259', '2749', '3328', '529', '4098', '720', '5845', '6012', '1674', '1186', '1408', '6130', '5878'], 'matchup_id': 2, 'custom_points': None}]\n"
     ]
    }
   ],
   "source": [
    "matchups = league.get_matchups(1)\n",
    "print(matchups)"
   ]
  },
  {
   "cell_type": "code",
   "execution_count": 33,
   "metadata": {},
   "outputs": [],
   "source": [
    "point_vals = {'pass_td' : 6, 'pass_yd' : .04, 'pass_td_40p' : 2, 'pass_cmp_40p' : 1, 'pass_2pt' : 2,\n",
    "              'rush_td' : 8, 'rush_yd' : 0.1, 'rush_td_40p' : 2,'rush_40p' : 1, 'rush_2pt' : 2,\n",
    "              'rec' : 1, 'rec_td' : 6, 'rec_yd' : .1, 'rec_40p' : 1, 'rec_2pt' : 2, \n",
    "              'bonus_rec_wr' : 0.5, 'bonus_rec_rb' : 0.5, 'bonus_rec_te' : 2,\n",
    "              'pr_yd' : .07, 'pr_td' : 6, 'kr_yd' : .07, 'kr_td' : 6,\n",
    "              'fum' : -1, 'fum_lost' : -2, 'pass_int' : -1, 'idp_tkl_loss': 3.5, 'idp_tkl_ast': 1, 'idp_tkl': 2, \n",
    "              'idp_sack': 4, 'idp_qb_hit': 2, 'idp_pass_def': 2.5, 'idp_ff': 3, 'idp_def_td' : 6,\n",
    "              'idp_int' : 5, 'idp_fum_rec' : 4, 'idp_safe' : 10, 'idp_blk_kick': 6}\n",
    "              \n",
    "t_point_vals = {'pass_td' : 4, 'pass_yd' : .04, 'pass_td_40p' : 0, 'pass_cmp_40p' : 0, 'pass_2pt' : 2,\n",
    "              'rush_td' : 6, 'rush_yd' : 0.1, 'rush_td_40p' : 0,'rush_40p' : 0, 'rush_2pt' : 2,\n",
    "              'rec' : 0.5, 'rec_td' : 6, 'rec_yd' : .1, 'rec_40p' : 0, 'rec_2pt' : 2, \n",
    "              'bonus_rec_wr' : 0, 'bonus_rec_rb' : 0, 'bonus_rec_te' : 0,\n",
    "              'pr_yd' : 0, 'pr_td' : 0, 'kr_yd' : 0, 'kr_td' : 0,\n",
    "              'fum' : -1, 'fum_lost' : -2, 'pass_int' : -1, 'idp_tkl_loss': 0, 'idp_tkl_ast': 0, 'idp_tkl': 0, \n",
    "              'idp_sack': 0, 'idp_qb_hit': 0, 'idp_pass_def': 0, 'idp_ff': 0, 'idp_def_td' : 0,\n",
    "              'idp_int' : 0, 'idp_fum_rec' : 0, 'idp_safe' : 0, 'idp_blk_kick': 0}\n",
    "\n",
    "### if position = \"K\" use points ppr\n",
    "\n",
    "\n",
    "def calc_points(stats):\n",
    "    total = 0\n",
    "    for stat in stats:\n",
    "        if stat in point_vals.keys():\n",
    "            total += stats[stat] * point_vals[stat]\n",
    "    return total\n",
    "    "
   ]
  },
  {
   "cell_type": "code",
   "execution_count": 36,
   "metadata": {},
   "outputs": [
    {
     "ename": "TypeError",
     "evalue": "argument of type 'HTTPError' is not iterable",
     "output_type": "error",
     "traceback": [
      "\u001b[1;31m---------------------------------------------------------------------------\u001b[0m",
      "\u001b[1;31mTypeError\u001b[0m                                 Traceback (most recent call last)",
      "\u001b[1;32m<ipython-input-36-41f1d6b8f610>\u001b[0m in \u001b[0;36m<module>\u001b[1;34m\u001b[0m\n\u001b[0;32m     18\u001b[0m         \u001b[0mmatchup_id\u001b[0m \u001b[1;33m=\u001b[0m \u001b[0mmatchup\u001b[0m\u001b[1;33m[\u001b[0m\u001b[1;34m'matchup_id'\u001b[0m\u001b[1;33m]\u001b[0m\u001b[1;33m\u001b[0m\u001b[1;33m\u001b[0m\u001b[0m\n\u001b[0;32m     19\u001b[0m         \u001b[0mstarters\u001b[0m \u001b[1;33m=\u001b[0m \u001b[0mmatchup\u001b[0m\u001b[1;33m[\u001b[0m\u001b[1;34m'starters'\u001b[0m\u001b[1;33m]\u001b[0m\u001b[1;33m\u001b[0m\u001b[1;33m\u001b[0m\u001b[0m\n\u001b[1;32m---> 20\u001b[1;33m         \u001b[0mtotal_points\u001b[0m \u001b[1;33m=\u001b[0m \u001b[0mcalc_weekly_points\u001b[0m\u001b[1;33m(\u001b[0m\u001b[0mstarters\u001b[0m\u001b[1;33m,\u001b[0m \u001b[0mweek_stats\u001b[0m\u001b[1;33m)\u001b[0m\u001b[1;33m\u001b[0m\u001b[1;33m\u001b[0m\u001b[0m\n\u001b[0m\u001b[0;32m     21\u001b[0m         \u001b[0moffensive_points\u001b[0m \u001b[1;33m=\u001b[0m \u001b[1;36m0\u001b[0m\u001b[1;33m\u001b[0m\u001b[1;33m\u001b[0m\u001b[0m\n\u001b[0;32m     22\u001b[0m         \u001b[0mdefensive_points\u001b[0m \u001b[1;33m=\u001b[0m \u001b[1;36m0\u001b[0m\u001b[1;33m\u001b[0m\u001b[1;33m\u001b[0m\u001b[0m\n",
      "\u001b[1;32m<ipython-input-34-db9729faa649>\u001b[0m in \u001b[0;36mcalc_weekly_points\u001b[1;34m(starters, weekly_stats)\u001b[0m\n\u001b[0;32m      5\u001b[0m     \u001b[1;32mfor\u001b[0m \u001b[0mstarter\u001b[0m \u001b[1;32min\u001b[0m \u001b[0mstarters\u001b[0m\u001b[1;33m:\u001b[0m\u001b[1;33m\u001b[0m\u001b[1;33m\u001b[0m\u001b[0m\n\u001b[0;32m      6\u001b[0m         \u001b[0mplayer\u001b[0m \u001b[1;33m=\u001b[0m \u001b[0mPlayer\u001b[0m\u001b[1;33m(\u001b[0m\u001b[0mstarter\u001b[0m\u001b[1;33m)\u001b[0m\u001b[1;33m\u001b[0m\u001b[1;33m\u001b[0m\u001b[0m\n\u001b[1;32m----> 7\u001b[1;33m         \u001b[1;32mif\u001b[0m \u001b[0mstarter\u001b[0m \u001b[1;32mnot\u001b[0m \u001b[1;32min\u001b[0m \u001b[0mweek_stats\u001b[0m\u001b[1;33m:\u001b[0m\u001b[1;33m\u001b[0m\u001b[1;33m\u001b[0m\u001b[0m\n\u001b[0m\u001b[0;32m      8\u001b[0m             \u001b[1;32mcontinue\u001b[0m\u001b[1;33m\u001b[0m\u001b[1;33m\u001b[0m\u001b[0m\n\u001b[0;32m      9\u001b[0m         \u001b[0mplayer_stats\u001b[0m \u001b[1;33m=\u001b[0m \u001b[0mweek_stats\u001b[0m\u001b[1;33m[\u001b[0m\u001b[0mstarter\u001b[0m\u001b[1;33m]\u001b[0m\u001b[1;33m\u001b[0m\u001b[1;33m\u001b[0m\u001b[0m\n",
      "\u001b[1;31mTypeError\u001b[0m: argument of type 'HTTPError' is not iterable"
     ]
    }
   ],
   "source": [
    "## Calculate points that are from offense vs defense in a given week\n",
    "## COULD adapt to do a position based percentage\n",
    "\n",
    "offensive_positions = ['QB', 'RB', 'WR', 'TE', 'K']\n",
    "tid2percent_o = {}\n",
    "tid2percent_d = {}\n",
    "stats = Stats()\n",
    "for i in range(1, len(users) + 1):\n",
    "    tid2percent_o[i] = []\n",
    "    tid2percent_d[i] = []\n",
    "    \n",
    "for week in range(1, 14):\n",
    "    matchups = league.get_matchups(week)\n",
    "    scores = []\n",
    "    week_stats = stats.get_week_stats('regular', 2019, week)\n",
    "    for matchup in matchups:\n",
    "        tid = matchup['roster_id']\n",
    "        matchup_id = matchup['matchup_id']\n",
    "        starters = matchup['starters']\n",
    "        total_points = calc_weekly_points(starters, week_stats)\n",
    "        offensive_points = 0\n",
    "        defensive_points = 0\n",
    "        for starter in starters:\n",
    "            player = Player(starter)\n",
    "            if starter not in week_stats:\n",
    "                continue\n",
    "            player_stats = week_stats[starter]\n",
    "            position = player.position\n",
    "            point = 0\n",
    "            if position in offensive_positions:\n",
    "                if position == 'K':\n",
    "                    if 'pts_std' in player_stats:\n",
    "                        point = player_stats['pts_std']\n",
    "                else:\n",
    "                    point = calc_points(player_stats)\n",
    "                offensive_points += point\n",
    "            else:\n",
    "                point = calc_points(player_stats)\n",
    "                defensive_points += point\n",
    "        tid2percent_o[tid].append(offensive_points / total_points)\n",
    "        tid2percent_d[tid].append(defensive_points / total_points)\n",
    "        \n",
    "\n",
    "        \n",
    "res = []\n",
    "for tid in tid2rec.keys():\n",
    "    for team in teams:\n",
    "        if team.tid + 1 == tid:\n",
    "            owner_name = team.owner_name\n",
    "            percent_o = tid2percent_o[tid]\n",
    "            percent_d = tid2percent_d[tid]\n",
    "            res.append((owner_name, np.mean(percent_o), np.mean(percent_d)))\n",
    "            \n",
    "res.sort(key = lambda x: x[1], reverse=True)\n",
    "print('Average point percentage from Offense\\n')\n",
    "for result in res:\n",
    "    print('%s: %.2f' % (result[0], result[1]))\n",
    "            \n",
    "print('\\nAverage point percentage from Defense\\n')\n",
    "res.sort(key = lambda x: x[2], reverse=True)\n",
    "for result in res:\n",
    "    print('%s: %.2f' % (result[0], result[2]))"
   ]
  },
  {
   "cell_type": "code",
   "execution_count": 37,
   "metadata": {},
   "outputs": [],
   "source": [
    "## Function to calculate points scored given the starters and the stats for said starters\n",
    "\n",
    "def calc_weekly_points(starters, weekly_stats):\n",
    "    total = 0\n",
    "    for starter in starters:\n",
    "        player = Player(starter)\n",
    "        if starter not in week_stats:\n",
    "            continue\n",
    "        player_stats = week_stats[starter]\n",
    "        position = player.position\n",
    "        point = 0\n",
    "        if position == 'K':\n",
    "            if 'pts_std' in player_stats:\n",
    "                point = player_stats['pts_std']\n",
    "        else:\n",
    "            point = calc_points(player_stats)\n",
    "        total += point\n",
    "    return total\n",
    "        "
   ]
  },
  {
   "cell_type": "code",
   "execution_count": 38,
   "metadata": {},
   "outputs": [
    {
     "ename": "TypeError",
     "evalue": "argument of type 'HTTPError' is not iterable",
     "output_type": "error",
     "traceback": [
      "\u001b[1;31m---------------------------------------------------------------------------\u001b[0m",
      "\u001b[1;31mTypeError\u001b[0m                                 Traceback (most recent call last)",
      "\u001b[1;32m<ipython-input-38-a19de3014599>\u001b[0m in \u001b[0;36m<module>\u001b[1;34m\u001b[0m\n\u001b[0;32m     14\u001b[0m         \u001b[0mtid\u001b[0m \u001b[1;33m=\u001b[0m \u001b[0mmatchup\u001b[0m\u001b[1;33m[\u001b[0m\u001b[1;34m'roster_id'\u001b[0m\u001b[1;33m]\u001b[0m\u001b[1;33m\u001b[0m\u001b[1;33m\u001b[0m\u001b[0m\n\u001b[0;32m     15\u001b[0m         \u001b[0mstarters\u001b[0m \u001b[1;33m=\u001b[0m \u001b[0mmatchup\u001b[0m\u001b[1;33m[\u001b[0m\u001b[1;34m'starters'\u001b[0m\u001b[1;33m]\u001b[0m\u001b[1;33m\u001b[0m\u001b[1;33m\u001b[0m\u001b[0m\n\u001b[1;32m---> 16\u001b[1;33m         \u001b[0mpoints\u001b[0m \u001b[1;33m=\u001b[0m \u001b[0mcalc_weekly_points\u001b[0m\u001b[1;33m(\u001b[0m\u001b[0mstarters\u001b[0m\u001b[1;33m,\u001b[0m \u001b[0mweek_stats\u001b[0m\u001b[1;33m)\u001b[0m\u001b[1;33m\u001b[0m\u001b[1;33m\u001b[0m\u001b[0m\n\u001b[0m\u001b[0;32m     17\u001b[0m         \u001b[0mother_matchups\u001b[0m \u001b[1;33m=\u001b[0m \u001b[0mleague\u001b[0m\u001b[1;33m.\u001b[0m\u001b[0mget_matchups\u001b[0m\u001b[1;33m(\u001b[0m\u001b[0mi\u001b[0m\u001b[1;33m)\u001b[0m\u001b[1;33m\u001b[0m\u001b[1;33m\u001b[0m\u001b[0m\n\u001b[0;32m     18\u001b[0m         \u001b[0mwins\u001b[0m \u001b[1;33m=\u001b[0m \u001b[1;36m0\u001b[0m\u001b[1;33m\u001b[0m\u001b[1;33m\u001b[0m\u001b[0m\n",
      "\u001b[1;32m<ipython-input-37-db9729faa649>\u001b[0m in \u001b[0;36mcalc_weekly_points\u001b[1;34m(starters, weekly_stats)\u001b[0m\n\u001b[0;32m      5\u001b[0m     \u001b[1;32mfor\u001b[0m \u001b[0mstarter\u001b[0m \u001b[1;32min\u001b[0m \u001b[0mstarters\u001b[0m\u001b[1;33m:\u001b[0m\u001b[1;33m\u001b[0m\u001b[1;33m\u001b[0m\u001b[0m\n\u001b[0;32m      6\u001b[0m         \u001b[0mplayer\u001b[0m \u001b[1;33m=\u001b[0m \u001b[0mPlayer\u001b[0m\u001b[1;33m(\u001b[0m\u001b[0mstarter\u001b[0m\u001b[1;33m)\u001b[0m\u001b[1;33m\u001b[0m\u001b[1;33m\u001b[0m\u001b[0m\n\u001b[1;32m----> 7\u001b[1;33m         \u001b[1;32mif\u001b[0m \u001b[0mstarter\u001b[0m \u001b[1;32mnot\u001b[0m \u001b[1;32min\u001b[0m \u001b[0mweek_stats\u001b[0m\u001b[1;33m:\u001b[0m\u001b[1;33m\u001b[0m\u001b[1;33m\u001b[0m\u001b[0m\n\u001b[0m\u001b[0;32m      8\u001b[0m             \u001b[1;32mcontinue\u001b[0m\u001b[1;33m\u001b[0m\u001b[1;33m\u001b[0m\u001b[0m\n\u001b[0;32m      9\u001b[0m         \u001b[0mplayer_stats\u001b[0m \u001b[1;33m=\u001b[0m \u001b[0mweek_stats\u001b[0m\u001b[1;33m[\u001b[0m\u001b[0mstarter\u001b[0m\u001b[1;33m]\u001b[0m\u001b[1;33m\u001b[0m\u001b[1;33m\u001b[0m\u001b[0m\n",
      "\u001b[1;31mTypeError\u001b[0m: argument of type 'HTTPError' is not iterable"
     ]
    }
   ],
   "source": [
    "## Proof that Sleeper is not all that:\n",
    "## Uses a manual calculation of weekly points to calculate record\n",
    "## Prints output of matchups where something should be changed\n",
    "\n",
    "\n",
    "tid2rec = {}\n",
    "stats = Stats()\n",
    "for i in range(1, len(users) + 1):\n",
    "    tid2rec[i] = (0,0)\n",
    "for i in range(1,14):\n",
    "    matchups = league.get_matchups(i)\n",
    "    week_stats = stats.get_week_stats('regular', 2019, i)\n",
    "    for matchup in matchups:\n",
    "        tid = matchup['roster_id']\n",
    "        starters = matchup['starters']\n",
    "        points = calc_weekly_points(starters, week_stats)\n",
    "        other_matchups = league.get_matchups(i)\n",
    "        wins = 0\n",
    "        losses = 0\n",
    "        for other_matchup in other_matchups:\n",
    "            other_tid = other_matchup['roster_id']\n",
    "            if matchup['matchup_id'] == other_matchup['matchup_id'] and tid != other_tid:\n",
    "                other_starters = other_matchup['starters']\n",
    "                other_points = 0\n",
    "                other_points = calc_weekly_points(other_starters, week_stats)\n",
    "                if points > other_points:\n",
    "                    wins += 1\n",
    "                    if matchup['points'] < other_matchup['points']:\n",
    "                        print(\"Check week %d, matchup with %s\" % (i, tid))\n",
    "                else: \n",
    "                    losses += 1\n",
    "        curr_rec = tid2rec[tid]\n",
    "        updated_wins = curr_rec[0] + wins\n",
    "        updated_l = curr_rec[1] + losses\n",
    "        tid2rec[tid] = (updated_wins, updated_l)\n",
    "\n",
    "res = []\n",
    "for tid in tid2rec.keys():\n",
    "    for team in teams:\n",
    "        if team.tid + 1 == tid:\n",
    "            owner_name = team.owner_name\n",
    "            record = tid2rec[tid]\n",
    "            res.append((owner_name, record))\n",
    "            \n",
    "res.sort(key = lambda x: x[1][0], reverse=True)\n",
    "for result in res:\n",
    "    print('%s: %d-%d' % (result[0], result[1][0], result[1][1]))\n",
    "            "
   ]
  },
  {
   "cell_type": "code",
   "execution_count": 41,
   "metadata": {},
   "outputs": [
    {
     "ename": "TypeError",
     "evalue": "argument of type 'HTTPError' is not iterable",
     "output_type": "error",
     "traceback": [
      "\u001b[1;31m---------------------------------------------------------------------------\u001b[0m",
      "\u001b[1;31mTypeError\u001b[0m                                 Traceback (most recent call last)",
      "\u001b[1;32m<ipython-input-41-9b6600ee3ced>\u001b[0m in \u001b[0;36m<module>\u001b[1;34m\u001b[0m\n\u001b[0;32m     32\u001b[0m \u001b[0mres\u001b[0m \u001b[1;33m=\u001b[0m \u001b[1;33m[\u001b[0m\u001b[1;33m]\u001b[0m\u001b[1;33m\u001b[0m\u001b[1;33m\u001b[0m\u001b[0m\n\u001b[0;32m     33\u001b[0m \u001b[0mpos\u001b[0m \u001b[1;33m=\u001b[0m \u001b[1;34m'QB'\u001b[0m\u001b[1;33m\u001b[0m\u001b[1;33m\u001b[0m\u001b[0m\n\u001b[1;32m---> 34\u001b[1;33m \u001b[0mtid2pospercent\u001b[0m \u001b[1;33m=\u001b[0m \u001b[0mget_points_by_pos\u001b[0m\u001b[1;33m(\u001b[0m\u001b[0mpos\u001b[0m\u001b[1;33m)\u001b[0m\u001b[1;33m\u001b[0m\u001b[1;33m\u001b[0m\u001b[0m\n\u001b[0m\u001b[0;32m     35\u001b[0m \u001b[1;32mfor\u001b[0m \u001b[0mtid\u001b[0m \u001b[1;32min\u001b[0m \u001b[0mtid2pospercent\u001b[0m\u001b[1;33m.\u001b[0m\u001b[0mkeys\u001b[0m\u001b[1;33m(\u001b[0m\u001b[1;33m)\u001b[0m\u001b[1;33m:\u001b[0m\u001b[1;33m\u001b[0m\u001b[1;33m\u001b[0m\u001b[0m\n\u001b[0;32m     36\u001b[0m     \u001b[1;32mfor\u001b[0m \u001b[0mteam\u001b[0m \u001b[1;32min\u001b[0m \u001b[0mteams\u001b[0m\u001b[1;33m:\u001b[0m\u001b[1;33m\u001b[0m\u001b[1;33m\u001b[0m\u001b[0m\n",
      "\u001b[1;32m<ipython-input-41-9b6600ee3ced>\u001b[0m in \u001b[0;36mget_points_by_pos\u001b[1;34m(pos)\u001b[0m\n\u001b[0;32m     13\u001b[0m             \u001b[0mmatchup_id\u001b[0m \u001b[1;33m=\u001b[0m \u001b[0mmatchup\u001b[0m\u001b[1;33m[\u001b[0m\u001b[1;34m'matchup_id'\u001b[0m\u001b[1;33m]\u001b[0m\u001b[1;33m\u001b[0m\u001b[1;33m\u001b[0m\u001b[0m\n\u001b[0;32m     14\u001b[0m             \u001b[0mstarters\u001b[0m \u001b[1;33m=\u001b[0m \u001b[0mmatchup\u001b[0m\u001b[1;33m[\u001b[0m\u001b[1;34m'starters'\u001b[0m\u001b[1;33m]\u001b[0m\u001b[1;33m\u001b[0m\u001b[1;33m\u001b[0m\u001b[0m\n\u001b[1;32m---> 15\u001b[1;33m             \u001b[0mtotal_points\u001b[0m \u001b[1;33m=\u001b[0m \u001b[0mcalc_weekly_points\u001b[0m\u001b[1;33m(\u001b[0m\u001b[0mstarters\u001b[0m\u001b[1;33m,\u001b[0m \u001b[0mweek_stats\u001b[0m\u001b[1;33m)\u001b[0m\u001b[1;33m\u001b[0m\u001b[1;33m\u001b[0m\u001b[0m\n\u001b[0m\u001b[0;32m     16\u001b[0m             \u001b[0mpos_points\u001b[0m \u001b[1;33m=\u001b[0m \u001b[1;36m0\u001b[0m\u001b[1;33m\u001b[0m\u001b[1;33m\u001b[0m\u001b[0m\n\u001b[0;32m     17\u001b[0m             \u001b[1;32mfor\u001b[0m \u001b[0mstarter\u001b[0m \u001b[1;32min\u001b[0m \u001b[0mstarters\u001b[0m\u001b[1;33m:\u001b[0m\u001b[1;33m\u001b[0m\u001b[1;33m\u001b[0m\u001b[0m\n",
      "\u001b[1;32m<ipython-input-37-db9729faa649>\u001b[0m in \u001b[0;36mcalc_weekly_points\u001b[1;34m(starters, weekly_stats)\u001b[0m\n\u001b[0;32m      5\u001b[0m     \u001b[1;32mfor\u001b[0m \u001b[0mstarter\u001b[0m \u001b[1;32min\u001b[0m \u001b[0mstarters\u001b[0m\u001b[1;33m:\u001b[0m\u001b[1;33m\u001b[0m\u001b[1;33m\u001b[0m\u001b[0m\n\u001b[0;32m      6\u001b[0m         \u001b[0mplayer\u001b[0m \u001b[1;33m=\u001b[0m \u001b[0mPlayer\u001b[0m\u001b[1;33m(\u001b[0m\u001b[0mstarter\u001b[0m\u001b[1;33m)\u001b[0m\u001b[1;33m\u001b[0m\u001b[1;33m\u001b[0m\u001b[0m\n\u001b[1;32m----> 7\u001b[1;33m         \u001b[1;32mif\u001b[0m \u001b[0mstarter\u001b[0m \u001b[1;32mnot\u001b[0m \u001b[1;32min\u001b[0m \u001b[0mweek_stats\u001b[0m\u001b[1;33m:\u001b[0m\u001b[1;33m\u001b[0m\u001b[1;33m\u001b[0m\u001b[0m\n\u001b[0m\u001b[0;32m      8\u001b[0m             \u001b[1;32mcontinue\u001b[0m\u001b[1;33m\u001b[0m\u001b[1;33m\u001b[0m\u001b[0m\n\u001b[0;32m      9\u001b[0m         \u001b[0mplayer_stats\u001b[0m \u001b[1;33m=\u001b[0m \u001b[0mweek_stats\u001b[0m\u001b[1;33m[\u001b[0m\u001b[0mstarter\u001b[0m\u001b[1;33m]\u001b[0m\u001b[1;33m\u001b[0m\u001b[1;33m\u001b[0m\u001b[0m\n",
      "\u001b[1;31mTypeError\u001b[0m: argument of type 'HTTPError' is not iterable"
     ]
    }
   ],
   "source": [
    "def get_points_by_pos(pos):\n",
    "    tid2pospercent = {}\n",
    "    stats = Stats()\n",
    "    for i in range(1, len(users) + 1):\n",
    "        tid2pospercent[i] = []\n",
    "\n",
    "    for week in range(1, 14):\n",
    "        matchups = league.get_matchups(week)\n",
    "        scores = []\n",
    "        week_stats = stats.get_week_stats('regular', 2019, week)\n",
    "        for matchup in matchups:\n",
    "            tid = matchup['roster_id']\n",
    "            matchup_id = matchup['matchup_id']\n",
    "            starters = matchup['starters']\n",
    "            total_points = calc_weekly_points(starters, week_stats)\n",
    "            pos_points = 0\n",
    "            for starter in starters:\n",
    "                player = Player(starter)\n",
    "                if starter not in week_stats:\n",
    "                    continue\n",
    "                player_stats = week_stats[starter]\n",
    "                positions = player.fantasy_positions\n",
    "                if pos in list(positions):\n",
    "                    if pos == 'K':\n",
    "                        if 'pts_std' in player_stats:\n",
    "                            pos_points += player_stats['pts_std']\n",
    "                    else:\n",
    "                        pos_points += calc_points(player_stats)\n",
    "            tid2pospercent[tid].append(pos_points / total_points)  \n",
    "    return tid2pospercent\n",
    "        \n",
    "res = []\n",
    "pos = 'QB'\n",
    "tid2pospercent = get_points_by_pos(pos)\n",
    "for tid in tid2pospercent.keys():\n",
    "    for team in teams:\n",
    "        if team.tid + 1 == tid:\n",
    "            owner_name = team.owner_name\n",
    "            posp = tid2pospercent[tid]\n",
    "            res.append((owner_name, np.mean(posp)))\n",
    "            \n",
    "res.sort(key = lambda x: x[1], reverse=True)\n",
    "print('Average point percentage from %s\\n' % (pos))\n",
    "for result in res:\n",
    "    print('%s: %.2f' % (result[0], result[1]))"
   ]
  },
  {
   "cell_type": "code",
   "execution_count": 42,
   "metadata": {},
   "outputs": [
    {
     "name": "stdout",
     "output_type": "stream",
     "text": [
      "QB\n"
     ]
    },
    {
     "ename": "TypeError",
     "evalue": "argument of type 'HTTPError' is not iterable",
     "output_type": "error",
     "traceback": [
      "\u001b[1;31m---------------------------------------------------------------------------\u001b[0m",
      "\u001b[1;31mTypeError\u001b[0m                                 Traceback (most recent call last)",
      "\u001b[1;32m<ipython-input-42-fb308a3a08c0>\u001b[0m in \u001b[0;36m<module>\u001b[1;34m\u001b[0m\n\u001b[0;32m      9\u001b[0m \u001b[1;32mfor\u001b[0m \u001b[0mfp\u001b[0m \u001b[1;32min\u001b[0m \u001b[0mall_fp\u001b[0m\u001b[1;33m:\u001b[0m\u001b[1;33m\u001b[0m\u001b[1;33m\u001b[0m\u001b[0m\n\u001b[0;32m     10\u001b[0m     \u001b[0mprint\u001b[0m \u001b[1;33m(\u001b[0m\u001b[0mfp\u001b[0m\u001b[1;33m)\u001b[0m\u001b[1;33m\u001b[0m\u001b[1;33m\u001b[0m\u001b[0m\n\u001b[1;32m---> 11\u001b[1;33m     \u001b[0mpercentages\u001b[0m \u001b[1;33m=\u001b[0m \u001b[0mget_points_by_pos\u001b[0m\u001b[1;33m(\u001b[0m\u001b[0mfp\u001b[0m\u001b[1;33m)\u001b[0m\u001b[1;33m\u001b[0m\u001b[1;33m\u001b[0m\u001b[0m\n\u001b[0m\u001b[0;32m     12\u001b[0m     \u001b[1;32mfor\u001b[0m \u001b[0mtid\u001b[0m \u001b[1;32min\u001b[0m \u001b[0mpercentages\u001b[0m\u001b[1;33m.\u001b[0m\u001b[0mkeys\u001b[0m\u001b[1;33m(\u001b[0m\u001b[1;33m)\u001b[0m\u001b[1;33m:\u001b[0m\u001b[1;33m\u001b[0m\u001b[1;33m\u001b[0m\u001b[0m\n\u001b[0;32m     13\u001b[0m         \u001b[0mres_dic\u001b[0m\u001b[1;33m[\u001b[0m\u001b[0mtid\u001b[0m\u001b[1;33m]\u001b[0m\u001b[1;33m[\u001b[0m\u001b[0mfp\u001b[0m\u001b[1;33m]\u001b[0m \u001b[1;33m=\u001b[0m \u001b[0mnp\u001b[0m\u001b[1;33m.\u001b[0m\u001b[0mmean\u001b[0m\u001b[1;33m(\u001b[0m\u001b[0mpercentages\u001b[0m\u001b[1;33m[\u001b[0m\u001b[0mtid\u001b[0m\u001b[1;33m]\u001b[0m\u001b[1;33m)\u001b[0m\u001b[1;33m\u001b[0m\u001b[1;33m\u001b[0m\u001b[0m\n",
      "\u001b[1;32m<ipython-input-41-9b6600ee3ced>\u001b[0m in \u001b[0;36mget_points_by_pos\u001b[1;34m(pos)\u001b[0m\n\u001b[0;32m     13\u001b[0m             \u001b[0mmatchup_id\u001b[0m \u001b[1;33m=\u001b[0m \u001b[0mmatchup\u001b[0m\u001b[1;33m[\u001b[0m\u001b[1;34m'matchup_id'\u001b[0m\u001b[1;33m]\u001b[0m\u001b[1;33m\u001b[0m\u001b[1;33m\u001b[0m\u001b[0m\n\u001b[0;32m     14\u001b[0m             \u001b[0mstarters\u001b[0m \u001b[1;33m=\u001b[0m \u001b[0mmatchup\u001b[0m\u001b[1;33m[\u001b[0m\u001b[1;34m'starters'\u001b[0m\u001b[1;33m]\u001b[0m\u001b[1;33m\u001b[0m\u001b[1;33m\u001b[0m\u001b[0m\n\u001b[1;32m---> 15\u001b[1;33m             \u001b[0mtotal_points\u001b[0m \u001b[1;33m=\u001b[0m \u001b[0mcalc_weekly_points\u001b[0m\u001b[1;33m(\u001b[0m\u001b[0mstarters\u001b[0m\u001b[1;33m,\u001b[0m \u001b[0mweek_stats\u001b[0m\u001b[1;33m)\u001b[0m\u001b[1;33m\u001b[0m\u001b[1;33m\u001b[0m\u001b[0m\n\u001b[0m\u001b[0;32m     16\u001b[0m             \u001b[0mpos_points\u001b[0m \u001b[1;33m=\u001b[0m \u001b[1;36m0\u001b[0m\u001b[1;33m\u001b[0m\u001b[1;33m\u001b[0m\u001b[0m\n\u001b[0;32m     17\u001b[0m             \u001b[1;32mfor\u001b[0m \u001b[0mstarter\u001b[0m \u001b[1;32min\u001b[0m \u001b[0mstarters\u001b[0m\u001b[1;33m:\u001b[0m\u001b[1;33m\u001b[0m\u001b[1;33m\u001b[0m\u001b[0m\n",
      "\u001b[1;32m<ipython-input-37-db9729faa649>\u001b[0m in \u001b[0;36mcalc_weekly_points\u001b[1;34m(starters, weekly_stats)\u001b[0m\n\u001b[0;32m      5\u001b[0m     \u001b[1;32mfor\u001b[0m \u001b[0mstarter\u001b[0m \u001b[1;32min\u001b[0m \u001b[0mstarters\u001b[0m\u001b[1;33m:\u001b[0m\u001b[1;33m\u001b[0m\u001b[1;33m\u001b[0m\u001b[0m\n\u001b[0;32m      6\u001b[0m         \u001b[0mplayer\u001b[0m \u001b[1;33m=\u001b[0m \u001b[0mPlayer\u001b[0m\u001b[1;33m(\u001b[0m\u001b[0mstarter\u001b[0m\u001b[1;33m)\u001b[0m\u001b[1;33m\u001b[0m\u001b[1;33m\u001b[0m\u001b[0m\n\u001b[1;32m----> 7\u001b[1;33m         \u001b[1;32mif\u001b[0m \u001b[0mstarter\u001b[0m \u001b[1;32mnot\u001b[0m \u001b[1;32min\u001b[0m \u001b[0mweek_stats\u001b[0m\u001b[1;33m:\u001b[0m\u001b[1;33m\u001b[0m\u001b[1;33m\u001b[0m\u001b[0m\n\u001b[0m\u001b[0;32m      8\u001b[0m             \u001b[1;32mcontinue\u001b[0m\u001b[1;33m\u001b[0m\u001b[1;33m\u001b[0m\u001b[0m\n\u001b[0;32m      9\u001b[0m         \u001b[0mplayer_stats\u001b[0m \u001b[1;33m=\u001b[0m \u001b[0mweek_stats\u001b[0m\u001b[1;33m[\u001b[0m\u001b[0mstarter\u001b[0m\u001b[1;33m]\u001b[0m\u001b[1;33m\u001b[0m\u001b[1;33m\u001b[0m\u001b[0m\n",
      "\u001b[1;31mTypeError\u001b[0m: argument of type 'HTTPError' is not iterable"
     ]
    }
   ],
   "source": [
    "all_fp = ['QB', 'RB', 'WR', 'TE', 'K', 'DL', 'LB', 'DB']\n",
    "res_dic = {}\n",
    "for i in range(1, len(users) + 1):\n",
    "    res_dic[i] = {}\n",
    "    for fp in all_fp:\n",
    "        res_dic[i][fp] = 0\n",
    "\n",
    "fp_percent = []\n",
    "for fp in all_fp:\n",
    "    print (fp)\n",
    "    percentages = get_points_by_pos(fp)\n",
    "    for tid in percentages.keys():\n",
    "        res_dic[tid][fp] = np.mean(percentages[tid])\n",
    "    "
   ]
  },
  {
   "cell_type": "code",
   "execution_count": null,
   "metadata": {
    "scrolled": true
   },
   "outputs": [],
   "source": []
  },
  {
   "cell_type": "code",
   "execution_count": 28,
   "metadata": {},
   "outputs": [
    {
     "ename": "NameError",
     "evalue": "name 'res_dic' is not defined",
     "output_type": "error",
     "traceback": [
      "\u001b[1;31m---------------------------------------------------------------------------\u001b[0m",
      "\u001b[1;31mNameError\u001b[0m                                 Traceback (most recent call last)",
      "\u001b[1;32m<ipython-input-28-0382e79ce9e9>\u001b[0m in \u001b[0;36m<module>\u001b[1;34m\u001b[0m\n\u001b[0;32m      2\u001b[0m \u001b[1;33m\u001b[0m\u001b[0m\n\u001b[0;32m      3\u001b[0m \u001b[0mres\u001b[0m \u001b[1;33m=\u001b[0m \u001b[1;33m[\u001b[0m\u001b[1;33m]\u001b[0m\u001b[1;33m\u001b[0m\u001b[1;33m\u001b[0m\u001b[0m\n\u001b[1;32m----> 4\u001b[1;33m \u001b[1;32mfor\u001b[0m \u001b[0mtid\u001b[0m \u001b[1;32min\u001b[0m \u001b[0mres_dic\u001b[0m\u001b[1;33m.\u001b[0m\u001b[0mkeys\u001b[0m\u001b[1;33m(\u001b[0m\u001b[1;33m)\u001b[0m\u001b[1;33m:\u001b[0m\u001b[1;33m\u001b[0m\u001b[1;33m\u001b[0m\u001b[0m\n\u001b[0m\u001b[0;32m      5\u001b[0m     \u001b[1;32mfor\u001b[0m \u001b[0mteam\u001b[0m \u001b[1;32min\u001b[0m \u001b[0mteams\u001b[0m\u001b[1;33m:\u001b[0m\u001b[1;33m\u001b[0m\u001b[1;33m\u001b[0m\u001b[0m\n\u001b[0;32m      6\u001b[0m         \u001b[1;32mif\u001b[0m \u001b[0mteam\u001b[0m\u001b[1;33m.\u001b[0m\u001b[0mtid\u001b[0m \u001b[1;33m+\u001b[0m \u001b[1;36m1\u001b[0m \u001b[1;33m==\u001b[0m \u001b[0mtid\u001b[0m\u001b[1;33m:\u001b[0m\u001b[1;33m\u001b[0m\u001b[1;33m\u001b[0m\u001b[0m\n",
      "\u001b[1;31mNameError\u001b[0m: name 'res_dic' is not defined"
     ]
    }
   ],
   "source": [
    "## Breaks down average point totals by position\n",
    "\n",
    "res = []\n",
    "for tid in res_dic.keys():\n",
    "    for team in teams:\n",
    "        if team.tid + 1 == tid:\n",
    "            owner_name = team.owner_name\n",
    "            pos_dic = res_dic[tid]\n",
    "            norm_list = []\n",
    "            total = np.sum(list(pos_dic.values()))\n",
    "            for value in pos_dic.values():\n",
    "                norm_list.append(value / total)\n",
    "            ind = 0\n",
    "            norm_dic = {}\n",
    "            for posit in pos_dic.keys():\n",
    "                norm_dic[posit] = norm_list[ind] * 100\n",
    "                ind += 1\n",
    "            res.append((owner_name, norm_dic))\n",
    "            \n",
    "res.sort(key = lambda x: x[1]['QB'], reverse=True)\n",
    "for result in res:\n",
    "    print('%s: %s\\n' % (result[0], result[1]))"
   ]
  },
  {
   "cell_type": "code",
   "execution_count": 21,
   "metadata": {
    "scrolled": true
   },
   "outputs": [
    {
     "name": "stdout",
     "output_type": "stream",
     "text": [
      "6 Eric Ebron\n",
      "10 Miles Sanders\n",
      "10 D.J. Chark\n",
      "10 Deshaun Watson\n",
      "11 D.K. Metcalf\n",
      "11 Jonnu Smith\n",
      "12 Sammy Watkins\n",
      "12 Keenan Allen\n",
      "12 Austin Ekeler\n",
      "Philoh: 4\n",
      "\n",
      "chett: 3\n",
      "\n",
      "JusMan: 2\n",
      "\n",
      "Oz75: 0\n",
      "\n",
      "PolkFiction: 0\n",
      "\n",
      "ravensarmy123: 0\n",
      "\n",
      "Zfagan103: 0\n",
      "\n",
      "WildcardSports: 0\n",
      "\n",
      "jsemmens: 0\n",
      "\n",
      "BXBenny: 0\n",
      "\n",
      "kickinwing: 0\n",
      "\n",
      "MrLonghorn: 0\n",
      "\n"
     ]
    }
   ],
   "source": [
    "ia_dic = {}\n",
    "for i in range(1, len(users) + 1):\n",
    "    ia_dic[i] = 0\n",
    "for week in range(1, 14):\n",
    "    matchups = league.get_matchups(week)\n",
    "    week_stats = stats.get_week_stats('regular', 2019, week)\n",
    "    for matchup in matchups:\n",
    "        tid = matchup['roster_id']\n",
    "        starters = matchup['starters']\n",
    "        for starter in starters:\n",
    "            player = Player(starter)\n",
    "            if starter not in week_stats:\n",
    "                print(week, player.name)\n",
    "                ia_dic[tid] += 1\n",
    "res = []\n",
    "for tid in ia_dic.keys():\n",
    "    for team in teams:\n",
    "        if team.tid + 1 == tid:\n",
    "            owner_name = team.owner_name\n",
    "            ia_count = ia_dic[tid]\n",
    "            res.append((owner_name, ia_count))\n",
    "res.sort(key = lambda x: x[1], reverse=True)\n",
    "for result in res:\n",
    "    print('%s: %d\\n' % (result[0], result[1]))"
   ]
  },
  {
   "cell_type": "code",
   "execution_count": 10,
   "metadata": {},
   "outputs": [
    {
     "name": "stdout",
     "output_type": "stream",
     "text": [
      "[{'type': 'snake', 'status': 'complete', 'start_time': 1567018800000, 'sport': 'nfl', 'settings': {'teams': 10, 'slots_wr': 3, 'slots_te': 2, 'slots_super_flex': 1, 'slots_rb': 3, 'slots_qb': 1, 'slots_lb': 3, 'slots_k': 1, 'slots_idp_flex': 1, 'slots_flex': 2, 'slots_dl': 3, 'slots_db': 3, 'slots_bn': 20, 'rounds': 43, 'player_type': 0, 'pick_timer': 0, 'cpu_autopick': 1, 'alpha_sort': 0}, 'season_type': 'regular', 'season': '2019', 'metadata': {'scoring_type': 'dynasty', 'name': 'Superflex + IDP + TE Bonus', 'description': ''}, 'league_id': '472461929810489344', 'last_picked': 1567458626673, 'last_message_time': 1567458626823, 'last_message_id': '474359498106990592', 'draft_order': {'81818694082510848': 8, '472472670059884544': 5, '469044045100871680': 2, '462027038845300736': 10, '459622283674120192': 7, '404753649370214400': 4, '398733108221849600': 3, '395789677044469760': 1, '386633265433575424': 9, '342836336618688512': 6}, 'draft_id': '472461931488210944', 'creators': ['342836336618688512', '395789677044469760'], 'created': 1567006211676}]\n"
     ]
    }
   ],
   "source": [
    "drafts = league.get_all_drafts()\n",
    "print(drafts)\n"
   ]
  },
  {
   "cell_type": "code",
   "execution_count": null,
   "metadata": {},
   "outputs": [],
   "source": []
  }
 ],
 "metadata": {
  "kernelspec": {
   "display_name": "Python 3",
   "language": "python",
   "name": "python3"
  },
  "language_info": {
   "codemirror_mode": {
    "name": "ipython",
    "version": 3
   },
   "file_extension": ".py",
   "mimetype": "text/x-python",
   "name": "python",
   "nbconvert_exporter": "python",
   "pygments_lexer": "ipython3",
   "version": "3.7.5"
  }
 },
 "nbformat": 4,
 "nbformat_minor": 2
}
